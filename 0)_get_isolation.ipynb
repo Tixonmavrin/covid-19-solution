{
  "nbformat": 4,
  "nbformat_minor": 0,
  "metadata": {
    "colab": {
      "name": "0) get_info.ipynb.txt",
      "provenance": []
    },
    "kernelspec": {
      "name": "python3",
      "display_name": "Python 3"
    }
  },
  "cells": [
    {
      "cell_type": "code",
      "metadata": {
        "id": "ZZnVPM4b8pok",
        "colab_type": "code",
        "colab": {}
      },
      "source": [
        "# My repo with data\n",
        "!git clone https://github.com/Tixonmavrin/covid-19-solution"
      ],
      "execution_count": 0,
      "outputs": []
    },
    {
      "cell_type": "code",
      "metadata": {
        "id": "mOn79bzP8_k_",
        "colab_type": "code",
        "colab": {}
      },
      "source": [
        "import pandas as pd\n",
        "import requests\n",
        "from bs4 import BeautifulSoup\n",
        "import re\n",
        "from tqdm import tqdm\n",
        "import urllib\n",
        "import json\n",
        "from datetime import datetime"
      ],
      "execution_count": 0,
      "outputs": []
    },
    {
      "cell_type": "code",
      "metadata": {
        "id": "cX1vpSS-I6lD",
        "colab_type": "code",
        "colab": {
          "base_uri": "https://localhost:8080/",
          "height": 80
        },
        "outputId": "9e11b396-2785-4ca0-a16b-751c62ab600b"
      },
      "source": [
        "countries = pd.read_csv('covid-19-solution/data/features/countries-2.csv')\n",
        "URL = \"https://en.wikipedia.org/wiki/National_responses_to_the_2019%E2%80%9320_coronavirus_pandemic\"\n",
        "page = requests.get(URL)\n",
        "soup = BeautifulSoup(page.text)\n",
        "tables = soup.findAll(\"table\", {\"class\": \"wikitable\"})\n",
        "data = []\n",
        "def get_text(col):\n",
        "    return re.sub(r\"\\[[^]]+\\]\", \"\", col.text.strip())\n",
        "for row in tables[0].findAll(\"tr\"):\n",
        "    columns = row.findAll(\"td\")\n",
        "    if len(columns) < 4:\n",
        "        continue\n",
        "    if len(columns) == 5:\n",
        "        country = get_text(columns[0])\n",
        "        place = get_text(columns[1])\n",
        "        columns = columns[2:]\n",
        "    elif \"colspan\" in columns[0].attrs:\n",
        "        country = get_text(columns[0])\n",
        "        place = \"\"\n",
        "        columns = columns[1:]\n",
        "    else:\n",
        "        place = get_text(columns[0])\n",
        "        columns = columns[1:]\n",
        "    start = get_text(columns[0])\n",
        "    end = get_text(columns[1])\n",
        "    level = get_text(columns[2])\n",
        "    data.append([country, place, start, end, level])\n",
        "df = pd.DataFrame(data, columns=[\"Country\", \"Place\", \"Start date\", \"End date\", \"Level\"])\n",
        "df.to_csv(\"covid-19-solution/data/mobility/quarantine.csv\", index=False)\n",
        "df.sample()"
      ],
      "execution_count": 6,
      "outputs": [
        {
          "output_type": "execute_result",
          "data": {
            "text/html": [
              "<div>\n",
              "<style scoped>\n",
              "    .dataframe tbody tr th:only-of-type {\n",
              "        vertical-align: middle;\n",
              "    }\n",
              "\n",
              "    .dataframe tbody tr th {\n",
              "        vertical-align: top;\n",
              "    }\n",
              "\n",
              "    .dataframe thead th {\n",
              "        text-align: right;\n",
              "    }\n",
              "</style>\n",
              "<table border=\"1\" class=\"dataframe\">\n",
              "  <thead>\n",
              "    <tr style=\"text-align: right;\">\n",
              "      <th></th>\n",
              "      <th>Country</th>\n",
              "      <th>Place</th>\n",
              "      <th>Start date</th>\n",
              "      <th>End date</th>\n",
              "      <th>Level</th>\n",
              "    </tr>\n",
              "  </thead>\n",
              "  <tbody>\n",
              "    <tr>\n",
              "      <th>77</th>\n",
              "      <td>Russia</td>\n",
              "      <td>Moscow</td>\n",
              "      <td>2020-03-30</td>\n",
              "      <td>2020-05-12</td>\n",
              "      <td>Metropolitan area</td>\n",
              "    </tr>\n",
              "  </tbody>\n",
              "</table>\n",
              "</div>"
            ],
            "text/plain": [
              "   Country   Place  Start date    End date              Level\n",
              "77  Russia  Moscow  2020-03-30  2020-05-12  Metropolitan area"
            ]
          },
          "metadata": {
            "tags": []
          },
          "execution_count": 6
        }
      ]
    },
    {
      "cell_type": "code",
      "metadata": {
        "id": "z9ArIDUoI9LI",
        "colab_type": "code",
        "colab": {
          "base_uri": "https://localhost:8080/",
          "height": 168
        },
        "outputId": "fc25c182-7f34-46f9-ddca-c33f62219665"
      },
      "source": [
        "def read_csv_from_url(url):\n",
        "    try:\n",
        "        return pd.read_csv(url)\n",
        "    except urllib.error.HTTPError as e:\n",
        "        if e.status == 404:\n",
        "            return None\n",
        "        raise e\n",
        "PLACES = ['parks', 'residential', 'retail-and-recreation', 'transit-stations', 'workplaces', 'grocery-and-pharmacy']\n",
        "countries = pd.read_csv('covid-19-solution/data/features/countries-2.csv')\n",
        "def google_mobility_by_country(code):\n",
        "    data = []\n",
        "    for place in PLACES:\n",
        "        df = read_csv_from_url(f'https://pastelsky.github.io/covid-19-mobility-tracker/output/{code}/mobility-{place}.csv')\n",
        "        if df is not None:\n",
        "            df = df.rename(columns={'value': place})\n",
        "            data.append(df)\n",
        "    if data:\n",
        "        return pd.concat(data).groupby('date').first()\n",
        "    else:\n",
        "        return None\n",
        "data = []\n",
        "for i, row in tqdm(countries[countries['iso_alpha2'] != ''][['country', 'iso_alpha2']].iterrows()):\n",
        "    mobility = google_mobility_by_country(row['iso_alpha2'])\n",
        "    if mobility is not None:\n",
        "        mobility['country'] = row['country']\n",
        "        data.append(mobility)\n",
        "df = pd.concat(data).groupby(['country', 'date']).first().reset_index()\n",
        "df.to_csv('covid-19-solution/data/mobility/mobility-google.csv', index=False)\n",
        "df.sample()"
      ],
      "execution_count": 7,
      "outputs": [
        {
          "output_type": "stream",
          "text": [
            "254it [01:48,  2.33it/s]\n"
          ],
          "name": "stderr"
        },
        {
          "output_type": "execute_result",
          "data": {
            "text/html": [
              "<div>\n",
              "<style scoped>\n",
              "    .dataframe tbody tr th:only-of-type {\n",
              "        vertical-align: middle;\n",
              "    }\n",
              "\n",
              "    .dataframe tbody tr th {\n",
              "        vertical-align: top;\n",
              "    }\n",
              "\n",
              "    .dataframe thead th {\n",
              "        text-align: right;\n",
              "    }\n",
              "</style>\n",
              "<table border=\"1\" class=\"dataframe\">\n",
              "  <thead>\n",
              "    <tr style=\"text-align: right;\">\n",
              "      <th></th>\n",
              "      <th>country</th>\n",
              "      <th>date</th>\n",
              "      <th>parks</th>\n",
              "      <th>residential</th>\n",
              "      <th>retail-and-recreation</th>\n",
              "      <th>transit-stations</th>\n",
              "      <th>workplaces</th>\n",
              "      <th>grocery-and-pharmacy</th>\n",
              "    </tr>\n",
              "  </thead>\n",
              "  <tbody>\n",
              "    <tr>\n",
              "      <th>3632</th>\n",
              "      <td>LAO</td>\n",
              "      <td>2020-04-04</td>\n",
              "      <td>-24.0</td>\n",
              "      <td>16.0</td>\n",
              "      <td>-59.0</td>\n",
              "      <td>-68.0</td>\n",
              "      <td>-26.0</td>\n",
              "      <td>-40.0</td>\n",
              "    </tr>\n",
              "  </tbody>\n",
              "</table>\n",
              "</div>"
            ],
            "text/plain": [
              "     country        date  ...  workplaces  grocery-and-pharmacy\n",
              "3632     LAO  2020-04-04  ...       -26.0                 -40.0\n",
              "\n",
              "[1 rows x 8 columns]"
            ]
          },
          "metadata": {
            "tags": []
          },
          "execution_count": 7
        }
      ]
    },
    {
      "cell_type": "code",
      "metadata": {
        "id": "eqvUxwgbJj6s",
        "colab_type": "code",
        "colab": {}
      },
      "source": [
        "countries = pd.read_csv('covid-19-solution/data/features/countries-2.csv')\n",
        "city_map = {row['region_center']: row['country'] for i, row in countries[countries['is_region'] == 1].iterrows()}\n",
        "body = requests.get('https://yandex.ru/web-maps/covid19/isolation').content\n",
        "data = json.loads(re.compile(r'class=\"config-view\">(.+?)<').search(body.decode('utf-8'))[1])\n",
        "def ts_to_date(ts):\n",
        "    return datetime.utcfromtimestamp(ts + 3 * 60 * 60).strftime('%Y-%m-%d')\n",
        "result = []\n",
        "for c in data['covidData']['cities']:\n",
        "    if c['name'] in city_map:\n",
        "        country = city_map[c['name']]\n",
        "        result.append(\n",
        "            pd.DataFrame(\n",
        "                [[ts_to_date(r['ts']), country, r['value']] for r in c['histogramDays']], \n",
        "                columns=['date', 'country', 'isolation'],\n",
        "            )\n",
        "        )\n",
        "result = pd.concat(result).reset_index(drop=True)\n",
        "result.to_csv('covid-19-solution/data/mobility/mobility-yandex.csv', index=False)"
      ],
      "execution_count": 0,
      "outputs": []
    },
    {
      "cell_type": "code",
      "metadata": {
        "id": "-vVr06XsJGkn",
        "colab_type": "code",
        "colab": {
          "base_uri": "https://localhost:8080/",
          "height": 134
        },
        "outputId": "15028c2a-e9b1-4cfd-9cc7-2cb6112b16bc"
      },
      "source": [
        "# Get new link here\n",
        "#https://covid19-static.cdn-apple.com/covid19-mobility-data/current/v2/index.json\n",
        "URL = 'https://covid19-static.cdn-apple.com/covid19-mobility-data/2007HotfixDev45/v2/en-us/applemobilitytrends-2020-05-01.csv' #change date\n",
        "countries = pd.read_csv('covid-19-solution/data/features/countries-2.csv', na_filter=False)\n",
        "df = pd.read_csv(URL)\n",
        "df = df[df['geo_type'] == 'country/region']\n",
        "df = df[df['region'].isin(countries['name'])]\n",
        "df = df.drop(columns=['geo_type'])\n",
        "del df['alternative_name']\n",
        "df = df.groupby(['region', 'transportation_type']).first().stack().unstack(1).reset_index()\n",
        "df = df.rename(columns={\n",
        "    'level_1': 'date',\n",
        "    'driving': 'apl-driving',\n",
        "    'transit': 'apl-transit',\n",
        "    'walking': 'apl-walking',\n",
        "})\n",
        "df = pd.merge(df, countries, left_on='region', right_on='name')#[['date', 'country', 'apl-driving', 'apl-transit', 'apl-walking']]\n",
        "df.to_csv('covid-19-solution/data/mobility/mobility-apple.csv', index=False)\n",
        "df.sample()"
      ],
      "execution_count": 18,
      "outputs": [
        {
          "output_type": "execute_result",
          "data": {
            "text/html": [
              "<div>\n",
              "<style scoped>\n",
              "    .dataframe tbody tr th:only-of-type {\n",
              "        vertical-align: middle;\n",
              "    }\n",
              "\n",
              "    .dataframe tbody tr th {\n",
              "        vertical-align: top;\n",
              "    }\n",
              "\n",
              "    .dataframe thead th {\n",
              "        text-align: right;\n",
              "    }\n",
              "</style>\n",
              "<table border=\"1\" class=\"dataframe\">\n",
              "  <thead>\n",
              "    <tr style=\"text-align: right;\">\n",
              "      <th></th>\n",
              "      <th>region</th>\n",
              "      <th>date</th>\n",
              "      <th>apl-driving</th>\n",
              "      <th>apl-transit</th>\n",
              "      <th>apl-walking</th>\n",
              "      <th>country</th>\n",
              "      <th>name</th>\n",
              "      <th>iso_alpha2</th>\n",
              "      <th>population</th>\n",
              "      <th>area</th>\n",
              "      <th>density</th>\n",
              "      <th>lat</th>\n",
              "      <th>long</th>\n",
              "      <th>is_region</th>\n",
              "      <th>region_center</th>\n",
              "    </tr>\n",
              "  </thead>\n",
              "  <tbody>\n",
              "    <tr>\n",
              "      <th>3262</th>\n",
              "      <td>Luxembourg</td>\n",
              "      <td>2020-03-25</td>\n",
              "      <td>24.68</td>\n",
              "      <td>15.96</td>\n",
              "      <td>32.97</td>\n",
              "      <td>LUX</td>\n",
              "      <td>Luxembourg</td>\n",
              "      <td>LU</td>\n",
              "      <td>625978</td>\n",
              "      <td>2590</td>\n",
              "      <td>242.0</td>\n",
              "      <td>49.8153</td>\n",
              "      <td>6.1296</td>\n",
              "      <td>0</td>\n",
              "      <td></td>\n",
              "    </tr>\n",
              "  </tbody>\n",
              "</table>\n",
              "</div>"
            ],
            "text/plain": [
              "          region        date  apl-driving  ...    long  is_region region_center\n",
              "3262  Luxembourg  2020-03-25        24.68  ...  6.1296          0              \n",
              "\n",
              "[1 rows x 15 columns]"
            ]
          },
          "metadata": {
            "tags": []
          },
          "execution_count": 18
        }
      ]
    }
  ]
}